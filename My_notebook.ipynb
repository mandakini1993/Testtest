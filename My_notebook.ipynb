{
 "cells": [
  {
   "cell_type": "markdown",
   "id": "e867482c-6619-42a9-89a7-3bc4105b2c66",
   "metadata": {
    "tags": []
   },
   "source": [
    "# 1+1"
   ]
  },
  {
   "cell_type": "code",
   "execution_count": 1,
   "id": "3fa83e8c-f09a-4cdf-bb96-29a4e2e6d611",
   "metadata": {
    "collapsed": true,
    "jupyter": {
     "outputs_hidden": true
    },
    "tags": []
   },
   "outputs": [
    {
     "data": {
      "text/plain": [
       "2"
      ]
     },
     "execution_count": 1,
     "metadata": {},
     "output_type": "execute_result"
    }
   ],
   "source": [
    "1+1\n"
   ]
  },
  {
   "cell_type": "code",
   "execution_count": null,
   "id": "c10ef4f3-eb80-43d8-9c2c-8a9c8b47643e",
   "metadata": {},
   "outputs": [],
   "source": []
  },
  {
   "cell_type": "code",
   "execution_count": null,
   "id": "6d1898a4-baab-4048-8444-f47c27e2cd83",
   "metadata": {},
   "outputs": [],
   "source": []
  },
  {
   "cell_type": "markdown",
   "id": "e0ee3432-8ba3-4a04-af66-8d53a0aa7b56",
   "metadata": {
    "tags": []
   },
   "source": [
    "3*5"
   ]
  },
  {
   "cell_type": "code",
   "execution_count": 3,
   "id": "7b9115b5-a75a-43d9-9958-ed6b1da99abb",
   "metadata": {
    "tags": []
   },
   "outputs": [
    {
     "ename": "SyntaxError",
     "evalue": "invalid syntax (<ipython-input-3-b700469f0f40>, line 1)",
     "output_type": "error",
     "traceback": [
      "\u001b[0;36m  File \u001b[0;32m\"<ipython-input-3-b700469f0f40>\"\u001b[0;36m, line \u001b[0;32m1\u001b[0m\n\u001b[0;31m    my title\u001b[0m\n\u001b[0m           ^\u001b[0m\n\u001b[0;31mSyntaxError\u001b[0m\u001b[0;31m:\u001b[0m invalid syntax\n"
     ]
    }
   ],
   "source": []
  },
  {
   "cell_type": "markdown",
   "id": "cfd7808a-2797-45bb-826c-c3ceb94c37c0",
   "metadata": {},
   "source": [
    "my titles and . . ."
   ]
  },
  {
   "cell_type": "code",
   "execution_count": null,
   "id": "07ce574b-9797-4c9b-b6e6-6dd52eee120e",
   "metadata": {},
   "outputs": [],
   "source": []
  }
 ],
 "metadata": {
  "kernelspec": {
   "display_name": "Python",
   "language": "python",
   "name": "conda-env-python-py"
  },
  "language_info": {
   "codemirror_mode": {
    "name": "ipython",
    "version": 3
   },
   "file_extension": ".py",
   "mimetype": "text/x-python",
   "name": "python",
   "nbconvert_exporter": "python",
   "pygments_lexer": "ipython3",
   "version": "3.6.13"
  }
 },
 "nbformat": 4,
 "nbformat_minor": 5
}
